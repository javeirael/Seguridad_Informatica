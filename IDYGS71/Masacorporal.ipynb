{
 "cells": [
  {
   "cell_type": "code",
   "execution_count": null,
   "id": "289e81dc",
   "metadata": {},
   "outputs": [],
   "source": [
    "# 1.Diccionario \n",
    "persona = {\n",
    "    \"nombre\": \"Javier\",\n",
    "    \"ap_paterno\": \"Can\",\n",
    "    \"ap_materno\": \"Tun\"\n",
    "    \"edad\": 21,\n",
    "    \"ciudad\": \"Cancun\",\n",
    "    \"altura\": 1.61,\n",
    "    \"peso\": 90\n",
    "}"
   ]
  },
  {
   "cell_type": "code",
   "execution_count": 8,
   "id": "a994a7cf",
   "metadata": {},
   "outputs": [
    {
     "name": "stdout",
     "output_type": "stream",
     "text": [
      "Nombre: javier can tun\n",
      "Edad: 21 años\n",
      "Ciudad: cancun\n",
      "Altura: 1.61 m\n",
      "Peso: 90 kg\n",
      "IMC: 34.72\n"
     ]
    }
   ],
   "source": [
    "#funcion que me determine el IMC y que me diga el nivel de peso\n",
    "# función con un parámetro\n",
    "def calcular_imc(peso, altura):\n",
    "    imc = peso / (altura ** 2)\n",
    "    return imc\n",
    "\n",
    "nom_per = nombre = \"javier\"\n",
    "ap_paterno = \"can\"\n",
    "ap_materno = \"tun\"\n",
    "edad = 21\n",
    "ciudad = \"cancun\"\n",
    "altura = 1.61\n",
    "peso = 90\n",
    "\n",
    "imc = calcular_imc(peso, altura)\n",
    "\n",
    "print(f\"Nombre: {nombre} {ap_paterno} {ap_materno}\")\n",
    "print(f\"Edad: {edad} años\")\n",
    "print(f\"Ciudad: {ciudad}\")\n",
    "print(f\"Altura: {altura} m\")\n",
    "print(f\"Peso: {peso} kg\")\n",
    "print(f\"IMC: {imc:.2f}\")"
   ]
  }
 ],
 "metadata": {
  "kernelspec": {
   "display_name": "Python 3 (ipykernel)",
   "language": "python",
   "name": "python3"
  },
  "language_info": {
   "codemirror_mode": {
    "name": "ipython",
    "version": 3
   },
   "file_extension": ".py",
   "mimetype": "text/x-python",
   "name": "python",
   "nbconvert_exporter": "python",
   "pygments_lexer": "ipython3",
   "version": "3.11.4"
  }
 },
 "nbformat": 4,
 "nbformat_minor": 5
}
