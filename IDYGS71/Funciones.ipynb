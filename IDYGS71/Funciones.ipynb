{
 "cells": [
  {
   "cell_type": "code",
   "execution_count": 15,
   "id": "11af4730",
   "metadata": {},
   "outputs": [
    {
     "name": "stdout",
     "output_type": "stream",
     "text": [
      "Nombre: Javier Can Tun\n",
      "Edad: 21 años\n",
      "Ciudad: Cancun\n",
      "Altura: 1.61 m\n",
      "Peso: 90 kg\n",
      "IMC: 34.72\n"
     ]
    }
   ],
   "source": [
    "from mipaquete import modulo1\n",
    "\n",
    "persona = {\n",
    "    \"nombre\": \"Javier\",\n",
    "    \"ap_paterno\": \"Can\",\n",
    "    \"ap_materno\": \"Tun\",\n",
    "    \"edad\": 21,\n",
    "    \"ciudad\": \"Cancun\",\n",
    "    \"altura\": 1.61,\n",
    "    \"peso\": 90\n",
    "}\n",
    "\n",
    "# Utiliza la información del diccionario \"persona\"\n",
    "nombre = persona[\"nombre\"]\n",
    "ap_paterno = persona[\"ap_paterno\"]\n",
    "ap_materno = persona[\"ap_materno\"]\n",
    "edad = persona[\"edad\"]\n",
    "ciudad = persona[\"ciudad\"]\n",
    "altura = persona[\"altura\"]\n",
    "peso = persona[\"peso\"]\n",
    "\n",
    "imc = modulo1.calcular_imc(peso, altura)\n",
    "\n",
    "print(f\"Nombre: {nombre} {ap_paterno} {ap_materno}\")\n",
    "print(f\"Edad: {edad} años\")\n",
    "print(f\"Ciudad: {ciudad}\")\n",
    "print(f\"Altura: {altura} m\")\n",
    "print(f\"Peso: {peso} kg\")\n",
    "print(f\"IMC: {imc:.2f}\")"
   ]
  },
  {
   "cell_type": "code",
   "execution_count": 10,
   "id": "bcbfa636",
   "metadata": {
    "scrolled": true
   },
   "outputs": [
    {
     "name": "stdout",
     "output_type": "stream",
     "text": [
      "Ingresa tu nombre: kw\n",
      "Ingresa el mes de tu nacimiento: enero\n",
      "Ingresa el día de tu nacimiento: 12\n",
      "Ingresa el año de tu nacimiento: 2002\n",
      "Hola kw, tu signo zodiacal occidental es Capricornio y tu signo zodiacal chino es el Tigre.\n"
     ]
    }
   ],
   "source": [
    "from mipaquete import modulo2\n",
    "\n",
    "nombre = input(\"Ingresa tu nombre: \")\n",
    "mes_nacimiento = input(\"Ingresa el mes de tu nacimiento: \")\n",
    "dia_nacimiento = input(\"Ingresa el día de tu nacimiento: \")\n",
    "año_nacimiento = input(\"Ingresa el año de tu nacimiento: \")\n",
    "\n",
    "signo_occidental, signo_chino = modulo2.obtener_signo_zodiacal(mes_nacimiento, año_nacimiento)\n",
    "\n",
    "print(f\"Hola {nombre}, tu signo zodiacal occidental es {signo_occidental} y tu signo zodiacal chino es el {signo_chino}.\")\n"
   ]
  },
  {
   "cell_type": "code",
   "execution_count": 6,
   "id": "b0e32608",
   "metadata": {
    "scrolled": true
   },
   "outputs": [
    {
     "name": "stdout",
     "output_type": "stream",
     "text": [
      "Ingresa el número de tabla que deseas generar: 10\n",
      "10 x 1 = 10\n",
      "10 x 2 = 20\n",
      "10 x 3 = 30\n",
      "10 x 4 = 40\n",
      "10 x 5 = 50\n",
      "10 x 6 = 60\n",
      "10 x 7 = 70\n",
      "10 x 8 = 80\n",
      "10 x 9 = 90\n",
      "10 x 10 = 100\n"
     ]
    }
   ],
   "source": [
    "from mipaquete.modulo3 import tabla_de_multiplicar\n",
    "\n",
    "numero_tabla = int(input(\"Ingresa el número de tabla que deseas generar: \"))\n",
    "\n",
    "tabla_de_multiplicar(numero_tabla, 10) "
   ]
  }
 ],
 "metadata": {
  "kernelspec": {
   "display_name": "Python 3 (ipykernel)",
   "language": "python",
   "name": "python3"
  },
  "language_info": {
   "codemirror_mode": {
    "name": "ipython",
    "version": 3
   },
   "file_extension": ".py",
   "mimetype": "text/x-python",
   "name": "python",
   "nbconvert_exporter": "python",
   "pygments_lexer": "ipython3",
   "version": "3.11.4"
  }
 },
 "nbformat": 4,
 "nbformat_minor": 5
}
