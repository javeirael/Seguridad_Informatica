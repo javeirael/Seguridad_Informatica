{
 "cells": [
  {
   "cell_type": "code",
   "execution_count": 2,
   "id": "bf154810",
   "metadata": {},
   "outputs": [
    {
     "name": "stdout",
     "output_type": "stream",
     "text": [
      "Ingrese el número de la tabla: 12\n",
      "Ingrese el final de la tabla: 12\n",
      "Ingresa el inicio de la tabla: 12\n",
      "Ingresa el final de la tabla: 12\n",
      "\n",
      "\n",
      "12 X 12 = 144\n",
      "12 X 13 = 156\n",
      "\n",
      "\n",
      "13 X 12 = 156\n",
      "13 X 13 = 169\n"
     ]
    }
   ],
   "source": [
    "inicio = int(input(\"Ingrese el número de la tabla: \"))\n",
    "final = 1 + int(input(\"Ingrese el final de la tabla: \"))\n",
    "\n",
    "inicio2 = int(input(\"Ingresa el inicio de la tabla: \"))\n",
    "final2 = 1 + int(input(\"Ingresa el final de la tabla: \"))\n",
    "\n",
    "for i in range(inicio, final + 1):\n",
    "    print(\"\\n\")\n",
    "    for j in range(inicio2, final2 + 1):\n",
    "        print(f\"{i} X {j} = {i*j}\")\n"
   ]
  }
 ],
 "metadata": {
  "kernelspec": {
   "display_name": "Python 3 (ipykernel)",
   "language": "python",
   "name": "python3"
  },
  "language_info": {
   "codemirror_mode": {
    "name": "ipython",
    "version": 3
   },
   "file_extension": ".py",
   "mimetype": "text/x-python",
   "name": "python",
   "nbconvert_exporter": "python",
   "pygments_lexer": "ipython3",
   "version": "3.11.4"
  }
 },
 "nbformat": 4,
 "nbformat_minor": 5
}
